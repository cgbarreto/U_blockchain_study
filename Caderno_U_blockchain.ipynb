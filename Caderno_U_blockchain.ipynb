{
  "nbformat": 4,
  "nbformat_minor": 0,
  "metadata": {
    "language_info": {
      "name": "python",
      "codemirror_mode": {
        "name": "ipython",
        "version": 3
      },
      "version": "3.7.3-final"
    },
    "orig_nbformat": 2,
    "file_extension": ".py",
    "mimetype": "text/x-python",
    "name": "python",
    "npconvert_exporter": "python",
    "pygments_lexer": "ipython3",
    "version": 3,
    "kernelspec": {
      "name": "python37364bitd21dc41c49074ecd91df99bf656be974",
      "display_name": "Python 3.7.3 64-bit"
    },
    "colab": {
      "name": "Caderno_U_blockchain.ipynb",
      "provenance": [],
      "include_colab_link": true
    }
  },
  "cells": [
    {
      "cell_type": "markdown",
      "metadata": {
        "id": "view-in-github",
        "colab_type": "text"
      },
      "source": [
        "<a href=\"https://colab.research.google.com/github/cgbarreto/U_blockchain_study/blob/master/Caderno_U_blockchain.ipynb\" target=\"_parent\"><img src=\"https://colab.research.google.com/assets/colab-badge.svg\" alt=\"Open In Colab\"/></a>"
      ]
    },
    {
      "cell_type": "markdown",
      "metadata": {
        "id": "Ki_ehKQM80ex",
        "colab_type": "text"
      },
      "source": [
        "# Parte 1 - Visão de Blockchain\n"
      ]
    },
    {
      "cell_type": "markdown",
      "metadata": {
        "id": "YAhu2sRW80e0",
        "colab_type": "text"
      },
      "source": [
        "#### O que é Blockchain?\n",
        "É uma lista contínua e crescente de registros, chamados de blocos, que estão conectados e seguros usando criptografia\t"
      ]
    },
    {
      "cell_type": "code",
      "metadata": {
        "id": "JyuLTSEt80e1",
        "colab_type": "code",
        "outputId": "4602359f-8d75-44ff-99f1-730c9e5454e4",
        "colab": {
          "base_uri": "https://localhost:8080/",
          "height": 323
        }
      },
      "source": [
        "from IPython.display import Image\n",
        "Image(filename=\"img/img1.png\",width = 300, height= 300)"
      ],
      "execution_count": 0,
      "outputs": [
        {
          "output_type": "error",
          "ename": "FileNotFoundError",
          "evalue": "ignored",
          "traceback": [
            "\u001b[0;31m---------------------------------------------------------------------------\u001b[0m",
            "\u001b[0;31mFileNotFoundError\u001b[0m                         Traceback (most recent call last)",
            "\u001b[0;32m<ipython-input-1-aa78c3d7ce4f>\u001b[0m in \u001b[0;36m<module>\u001b[0;34m()\u001b[0m\n\u001b[1;32m      1\u001b[0m \u001b[0;32mfrom\u001b[0m \u001b[0mIPython\u001b[0m\u001b[0;34m.\u001b[0m\u001b[0mdisplay\u001b[0m \u001b[0;32mimport\u001b[0m \u001b[0mImage\u001b[0m\u001b[0;34m\u001b[0m\u001b[0;34m\u001b[0m\u001b[0m\n\u001b[0;32m----> 2\u001b[0;31m \u001b[0mImage\u001b[0m\u001b[0;34m(\u001b[0m\u001b[0mfilename\u001b[0m\u001b[0;34m=\u001b[0m\u001b[0;34m\"img/img1.png\"\u001b[0m\u001b[0;34m,\u001b[0m\u001b[0mwidth\u001b[0m \u001b[0;34m=\u001b[0m \u001b[0;36m300\u001b[0m\u001b[0;34m,\u001b[0m \u001b[0mheight\u001b[0m\u001b[0;34m=\u001b[0m \u001b[0;36m300\u001b[0m\u001b[0;34m)\u001b[0m\u001b[0;34m\u001b[0m\u001b[0;34m\u001b[0m\u001b[0m\n\u001b[0m",
            "\u001b[0;32m/usr/local/lib/python3.6/dist-packages/IPython/core/display.py\u001b[0m in \u001b[0;36m__init__\u001b[0;34m(self, data, url, filename, format, embed, width, height, retina, unconfined, metadata)\u001b[0m\n\u001b[1;32m   1019\u001b[0m         \u001b[0mself\u001b[0m\u001b[0;34m.\u001b[0m\u001b[0munconfined\u001b[0m \u001b[0;34m=\u001b[0m \u001b[0munconfined\u001b[0m\u001b[0;34m\u001b[0m\u001b[0;34m\u001b[0m\u001b[0m\n\u001b[1;32m   1020\u001b[0m         \u001b[0mself\u001b[0m\u001b[0;34m.\u001b[0m\u001b[0mmetadata\u001b[0m \u001b[0;34m=\u001b[0m \u001b[0mmetadata\u001b[0m\u001b[0;34m\u001b[0m\u001b[0;34m\u001b[0m\u001b[0m\n\u001b[0;32m-> 1021\u001b[0;31m         \u001b[0msuper\u001b[0m\u001b[0;34m(\u001b[0m\u001b[0mImage\u001b[0m\u001b[0;34m,\u001b[0m \u001b[0mself\u001b[0m\u001b[0;34m)\u001b[0m\u001b[0;34m.\u001b[0m\u001b[0m__init__\u001b[0m\u001b[0;34m(\u001b[0m\u001b[0mdata\u001b[0m\u001b[0;34m=\u001b[0m\u001b[0mdata\u001b[0m\u001b[0;34m,\u001b[0m \u001b[0murl\u001b[0m\u001b[0;34m=\u001b[0m\u001b[0murl\u001b[0m\u001b[0;34m,\u001b[0m \u001b[0mfilename\u001b[0m\u001b[0;34m=\u001b[0m\u001b[0mfilename\u001b[0m\u001b[0;34m)\u001b[0m\u001b[0;34m\u001b[0m\u001b[0;34m\u001b[0m\u001b[0m\n\u001b[0m\u001b[1;32m   1022\u001b[0m \u001b[0;34m\u001b[0m\u001b[0m\n\u001b[1;32m   1023\u001b[0m         \u001b[0;32mif\u001b[0m \u001b[0mretina\u001b[0m\u001b[0;34m:\u001b[0m\u001b[0;34m\u001b[0m\u001b[0;34m\u001b[0m\u001b[0m\n",
            "\u001b[0;32m/usr/local/lib/python3.6/dist-packages/IPython/core/display.py\u001b[0m in \u001b[0;36m__init__\u001b[0;34m(self, data, url, filename)\u001b[0m\n\u001b[1;32m    611\u001b[0m         \u001b[0mself\u001b[0m\u001b[0;34m.\u001b[0m\u001b[0mfilename\u001b[0m \u001b[0;34m=\u001b[0m \u001b[0;32mNone\u001b[0m \u001b[0;32mif\u001b[0m \u001b[0mfilename\u001b[0m \u001b[0;32mis\u001b[0m \u001b[0;32mNone\u001b[0m \u001b[0;32melse\u001b[0m \u001b[0municode_type\u001b[0m\u001b[0;34m(\u001b[0m\u001b[0mfilename\u001b[0m\u001b[0;34m)\u001b[0m\u001b[0;34m\u001b[0m\u001b[0;34m\u001b[0m\u001b[0m\n\u001b[1;32m    612\u001b[0m \u001b[0;34m\u001b[0m\u001b[0m\n\u001b[0;32m--> 613\u001b[0;31m         \u001b[0mself\u001b[0m\u001b[0;34m.\u001b[0m\u001b[0mreload\u001b[0m\u001b[0;34m(\u001b[0m\u001b[0;34m)\u001b[0m\u001b[0;34m\u001b[0m\u001b[0;34m\u001b[0m\u001b[0m\n\u001b[0m\u001b[1;32m    614\u001b[0m         \u001b[0mself\u001b[0m\u001b[0;34m.\u001b[0m\u001b[0m_check_data\u001b[0m\u001b[0;34m(\u001b[0m\u001b[0;34m)\u001b[0m\u001b[0;34m\u001b[0m\u001b[0;34m\u001b[0m\u001b[0m\n\u001b[1;32m    615\u001b[0m \u001b[0;34m\u001b[0m\u001b[0m\n",
            "\u001b[0;32m/usr/local/lib/python3.6/dist-packages/IPython/core/display.py\u001b[0m in \u001b[0;36mreload\u001b[0;34m(self)\u001b[0m\n\u001b[1;32m   1041\u001b[0m         \u001b[0;34m\"\"\"Reload the raw data from file or URL.\"\"\"\u001b[0m\u001b[0;34m\u001b[0m\u001b[0;34m\u001b[0m\u001b[0m\n\u001b[1;32m   1042\u001b[0m         \u001b[0;32mif\u001b[0m \u001b[0mself\u001b[0m\u001b[0;34m.\u001b[0m\u001b[0membed\u001b[0m\u001b[0;34m:\u001b[0m\u001b[0;34m\u001b[0m\u001b[0;34m\u001b[0m\u001b[0m\n\u001b[0;32m-> 1043\u001b[0;31m             \u001b[0msuper\u001b[0m\u001b[0;34m(\u001b[0m\u001b[0mImage\u001b[0m\u001b[0;34m,\u001b[0m\u001b[0mself\u001b[0m\u001b[0;34m)\u001b[0m\u001b[0;34m.\u001b[0m\u001b[0mreload\u001b[0m\u001b[0;34m(\u001b[0m\u001b[0;34m)\u001b[0m\u001b[0;34m\u001b[0m\u001b[0;34m\u001b[0m\u001b[0m\n\u001b[0m\u001b[1;32m   1044\u001b[0m             \u001b[0;32mif\u001b[0m \u001b[0mself\u001b[0m\u001b[0;34m.\u001b[0m\u001b[0mretina\u001b[0m\u001b[0;34m:\u001b[0m\u001b[0;34m\u001b[0m\u001b[0;34m\u001b[0m\u001b[0m\n\u001b[1;32m   1045\u001b[0m                 \u001b[0mself\u001b[0m\u001b[0;34m.\u001b[0m\u001b[0m_retina_shape\u001b[0m\u001b[0;34m(\u001b[0m\u001b[0;34m)\u001b[0m\u001b[0;34m\u001b[0m\u001b[0;34m\u001b[0m\u001b[0m\n",
            "\u001b[0;32m/usr/local/lib/python3.6/dist-packages/IPython/core/display.py\u001b[0m in \u001b[0;36mreload\u001b[0;34m(self)\u001b[0m\n\u001b[1;32m    629\u001b[0m         \u001b[0;34m\"\"\"Reload the raw data from file or URL.\"\"\"\u001b[0m\u001b[0;34m\u001b[0m\u001b[0;34m\u001b[0m\u001b[0m\n\u001b[1;32m    630\u001b[0m         \u001b[0;32mif\u001b[0m \u001b[0mself\u001b[0m\u001b[0;34m.\u001b[0m\u001b[0mfilename\u001b[0m \u001b[0;32mis\u001b[0m \u001b[0;32mnot\u001b[0m \u001b[0;32mNone\u001b[0m\u001b[0;34m:\u001b[0m\u001b[0;34m\u001b[0m\u001b[0;34m\u001b[0m\u001b[0m\n\u001b[0;32m--> 631\u001b[0;31m             \u001b[0;32mwith\u001b[0m \u001b[0mopen\u001b[0m\u001b[0;34m(\u001b[0m\u001b[0mself\u001b[0m\u001b[0;34m.\u001b[0m\u001b[0mfilename\u001b[0m\u001b[0;34m,\u001b[0m \u001b[0mself\u001b[0m\u001b[0;34m.\u001b[0m\u001b[0m_read_flags\u001b[0m\u001b[0;34m)\u001b[0m \u001b[0;32mas\u001b[0m \u001b[0mf\u001b[0m\u001b[0;34m:\u001b[0m\u001b[0;34m\u001b[0m\u001b[0;34m\u001b[0m\u001b[0m\n\u001b[0m\u001b[1;32m    632\u001b[0m                 \u001b[0mself\u001b[0m\u001b[0;34m.\u001b[0m\u001b[0mdata\u001b[0m \u001b[0;34m=\u001b[0m \u001b[0mf\u001b[0m\u001b[0;34m.\u001b[0m\u001b[0mread\u001b[0m\u001b[0;34m(\u001b[0m\u001b[0;34m)\u001b[0m\u001b[0;34m\u001b[0m\u001b[0;34m\u001b[0m\u001b[0m\n\u001b[1;32m    633\u001b[0m         \u001b[0;32melif\u001b[0m \u001b[0mself\u001b[0m\u001b[0;34m.\u001b[0m\u001b[0murl\u001b[0m \u001b[0;32mis\u001b[0m \u001b[0;32mnot\u001b[0m \u001b[0;32mNone\u001b[0m\u001b[0;34m:\u001b[0m\u001b[0;34m\u001b[0m\u001b[0;34m\u001b[0m\u001b[0m\n",
            "\u001b[0;31mFileNotFoundError\u001b[0m: [Errno 2] No such file or directory: 'img/img1.png'"
          ]
        }
      ]
    },
    {
      "cell_type": "markdown",
      "metadata": {
        "id": "wDOFR0EN80e6",
        "colab_type": "text"
      },
      "source": [
        "#### Compreendendo Hash SHA256\n",
        "É um algoritimo de encriptação criado pela NSA. Ele sempre usa 64 caracteres, que basicamente é a assinatura de qualquer documento digital\n",
        "\n",
        "https://tools.superdatascience.com/blockchain/hash/\n"
      ]
    },
    {
      "cell_type": "markdown",
      "metadata": {
        "id": "zRMhBz4C80e9",
        "colab_type": "text"
      },
      "source": [
        "Um algoritmo de Hash deve atender a 5 requisitos:\n",
        "- 1 - Sem retorno (não é possível restaurar um documento a partir dele)\n",
        "- 2 - Deterministico (o hash para um mesmo documento deve ser sempre o mesmo)\n",
        "- 3 - Proceossamento rápido\n",
        "- 4 - Efeito Avalanche (um pequena alteração no documento deve alterar um hash completamente diferente)\n",
        "- 5 - Deve suportar colisões naturais (dois documentos diferentes com um hash igual)\n",
        "\n",
        "Para melhor compreender os detalhes, ler o capítulo 1 do livro Cryptography in Context\n",
        "\n",
        "** Incluir link para o livro!!! **"
      ]
    },
    {
      "cell_type": "markdown",
      "metadata": {
        "id": "v9vOdrll80e_",
        "colab_type": "text"
      },
      "source": [
        "#### Registros imutáveis\n"
      ]
    },
    {
      "cell_type": "markdown",
      "metadata": {
        "id": "NHTWp5sB9E02",
        "colab_type": "text"
      },
      "source": [
        "!!!Incluir a imagem!!!!\n",
        "\n",
        "Área de aplicações possíveis:\n",
        "\n",
        "- Registros de cartórios e imóveis\n",
        "- Traçabilidade de assets (diamentes e outros por exemplo)\n",
        "\n",
        "Leitura extra sugerida:\n",
        "\n",
        "- [The blockchain Economy: A beginner's guide to institutional cryptoeconomics](https://medium.com/@cryptoeconomics/the-blockchain-economy-a-beginners-guide-to-institutional-cryptoeconomics-64bf2f2beec4)\n"
      ]
    },
    {
      "cell_type": "markdown",
      "metadata": {
        "id": "jswuBEAQ_aP5",
        "colab_type": "text"
      },
      "source": [
        "#### Rede P2P Distribuída"
      ]
    },
    {
      "cell_type": "markdown",
      "metadata": {
        "id": "mtVCkjXh_hM2",
        "colab_type": "text"
      },
      "source": [
        "!!!Incluir a imagem!!!!\n",
        "\n",
        "Erros/alterações/modificações implicam diretamente na modificação das hashs dos blocos seguintes. A rede constantemente verifica a integridade dos blocos e identifica prontamente a modificação, em seguida a rede força a atualização com a versão correta da chain em todos os nós da rede.\n",
        "\n",
        "Esse modelo de operação trás confiabilidade a rede, devido ao mecanismo de consenso.\n",
        "\n",
        "Leitura adicional:\n",
        "    - [The Meaning of Decentralization](https://medium.com/@VitalikButerin/the-meaning-of-decentralization-a0c92b76a274)"
      ]
    },
    {
      "cell_type": "markdown",
      "metadata": {
        "id": "0oUqkD5NIgMV",
        "colab_type": "text"
      },
      "source": [
        "#### Como a Mineração funciona?"
      ]
    },
    {
      "cell_type": "markdown",
      "metadata": {
        "id": "Ea01Lu-wInmq",
        "colab_type": "text"
      },
      "source": [
        "!!!Inserir imagem!!!\n",
        "\n",
        "O campo Nonce faz parte da composição da Hash, de forma que qualquer alteração nele altera o Hash.É um campo numerico que pode assumir valores muito grandes e pode ser alterado de maneira aleatória. A pergunta então passar ser: como o processo de mineração funciona e como o Nonce impacta-o?\n"
      ]
    },
    {
      "cell_type": "markdown",
      "metadata": {
        "id": "r_fuZDkWJ7wu",
        "colab_type": "text"
      },
      "source": [
        "!!!!Imagem 2\"\"\n",
        "\n",
        "Possíveis mascaras de hash compreendendo de valores pequenos a valores muito grandes e a representação de hexacimal para decimal"
      ]
    },
    {
      "cell_type": "markdown",
      "metadata": {
        "id": "QnZbV3SQKu99",
        "colab_type": "text"
      },
      "source": [
        "!!!Imagem 3\n",
        "\n",
        "O algoritmo cria um hash objetivo que deve ser resolvido calculando os hash oriundos da modificação do Nonce. Os mineradores focam em encontrar o Nonce a partir do qual a Hash calculada atenda ao objetivo definido"
      ]
    },
    {
      "cell_type": "markdown",
      "metadata": {
        "id": "7BfWve-hMJYQ",
        "colab_type": "text"
      },
      "source": [
        "#### Tolerância a Falha Bizantina"
      ]
    },
    {
      "cell_type": "markdown",
      "metadata": {
        "id": "g5zgjgvBMPKX",
        "colab_type": "text"
      },
      "source": [
        "Conceito importante para sistemas distribuídos"
      ]
    },
    {
      "cell_type": "markdown",
      "metadata": {
        "id": "gIo8e1ugMhYl",
        "colab_type": "text"
      },
      "source": [
        "[Link para Wiki](https://pt.wikipedia.org/wiki/Problema_dos_dois_generais)\n",
        "\n",
        "Resumidamente, a segurança e o protocolo de consenso se mantem intacto caso até 33% do consenso seja divergente (informações falsas/erros forçados na rede)\n",
        "\n",
        "Leitura adicional:\n",
        "\n",
        "- [The Byzantine General Problem ](https://people.eecs.berkeley.edu/~luca/cs174/byzantine.pdf)\n",
        "- [Understanding Blockchain Fundamentals, Part 1: Byzantine Fault Tolerance](https://medium.com/loom-network/understanding-blockchain-fundamentals-part-1-byzantine-fault-tolerance-245f46fe8419)"
      ]
    },
    {
      "cell_type": "markdown",
      "metadata": {
        "id": "ZHoU_o3wPRW4",
        "colab_type": "text"
      },
      "source": [
        "#### Protocolo de Consenso"
      ]
    },
    {
      "cell_type": "markdown",
      "metadata": {
        "id": "5TQ_vOi8Qpfk",
        "colab_type": "text"
      },
      "source": [
        "Dois problemas a serem resolvidos pelo protocolo:\n",
        "\n",
        "- 1 - Proteger a rede de ataques\n",
        "- 2 - Cadeias concorrentes (lapso de tempo entre diferentes nós, tempo de tráfego de informação)\n",
        "\n",
        "Há três tipos de protocolo de consenso, sendo eles:\n",
        "- Proof-of-work (utilizado em criptomoedas em geral)\n",
        "- Proof-of-stake\n",
        "- Others"
      ]
    },
    {
      "cell_type": "markdown",
      "metadata": {
        "id": "6okAq4MxTTl4",
        "colab_type": "text"
      },
      "source": [
        "Encontrar o Nonce é o Proof-of-work\n",
        "Quando o Golden Nonce (que atende ao objetivo) é encontrado, o minerador é premiado com o direito de escrever um novo bloco e recebe um valor para realizar a criação do bloco"
      ]
    },
    {
      "cell_type": "markdown",
      "metadata": {
        "id": "mDIVgYJwUOSx",
        "colab_type": "text"
      },
      "source": [
        "Como a rede dectada blocos maliciosos?\n",
        "Há uma sério de verificações realizadas pela rede pare determinar se um bloco é valido ou não.\n",
        "\n",
        "!!!!Imagem"
      ]
    },
    {
      "cell_type": "markdown",
      "metadata": {
        "id": "IGGkERV8U0mm",
        "colab_type": "text"
      },
      "source": [
        "Desafios criptográficos: Difíceis de resolver e fáceis de verificar. Minerar toma mais tempo e esforço do que verificar. A verificação toda leva no máximos alguns segundos."
      ]
    },
    {
      "cell_type": "markdown",
      "metadata": {
        "id": "BUvMMKy0Vje-",
        "colab_type": "text"
      },
      "source": [
        "##### O que acontece se dois mineradores encontrem o Nonce ao mesmo tempo em dois pontos diferentes da rede?\n",
        "Isso significa conflito na rede e o protocolo de consenso deve resolver tal problema\n",
        "\n",
        "!!!Imagem protocolo de consenso 2"
      ]
    },
    {
      "cell_type": "markdown",
      "metadata": {
        "id": "UCRStfNzVysM",
        "colab_type": "text"
      },
      "source": [
        "Neste caso a rede aguarda a adição de um novo bloco nas versões concorrentes e a partir disso verifica qual das novas cadeias é maior, definindo essa então como a versão correta a ser mantida\n",
        "\n",
        "Nesse ponto o Hash power começa a ser importante, ou seja o poder de processamento de hash possívelmente vai adicionar um bloco antes\n",
        "\n",
        "!!!!Imagem 3 Protocolo de consenso 3\n",
        "\n",
        "No blockchain o consenso da maioria funciona em 50% + 1"
      ]
    },
    {
      "cell_type": "markdown",
      "metadata": {
        "id": "uJVeGJfNXQKH",
        "colab_type": "text"
      },
      "source": [
        "Os blocos roxos passam a ser chamados de blocos orfãos, a recompensa deixa de ser válidas por eles (mineração feita em vão)"
      ]
    },
    {
      "cell_type": "markdown",
      "metadata": {
        "id": "O9MzemRSXaqk",
        "colab_type": "text"
      },
      "source": [
        "!!!!Imagem 4\n",
        "\n",
        "Leituras adicionais:\n",
        "- [Re: Bitcoin P2P e-cash paper](https://www.mail-archive.com/cryptography@metzdowd.com/msg09997.html)\n",
        "- [A (Short) Guide to Blockchain Consensus Protocols](http://www.coindesk.com/short-guide-blockchain-consensus-protocols)"
      ]
    },
    {
      "cell_type": "markdown",
      "metadata": {
        "id": "k-RgLA2rYXV9",
        "colab_type": "text"
      },
      "source": [
        ""
      ]
    }
  ]
}