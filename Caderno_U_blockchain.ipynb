{
  "nbformat": 4,
  "nbformat_minor": 0,
  "metadata": {
    "language_info": {
      "name": "python",
      "codemirror_mode": {
        "name": "ipython",
        "version": 3
      },
      "version": "3.7.3-final"
    },
    "orig_nbformat": 2,
    "file_extension": ".py",
    "mimetype": "text/x-python",
    "name": "python",
    "npconvert_exporter": "python",
    "pygments_lexer": "ipython3",
    "version": 3,
    "kernelspec": {
      "name": "python37364bitd21dc41c49074ecd91df99bf656be974",
      "display_name": "Python 3.7.3 64-bit"
    },
    "colab": {
      "name": "Caderno_U_blockchain.ipynb",
      "provenance": [],
      "collapsed_sections": [],
      "include_colab_link": true
    }
  },
  "cells": [
    {
      "cell_type": "markdown",
      "metadata": {
        "id": "view-in-github",
        "colab_type": "text"
      },
      "source": [
        "<a href=\"https://colab.research.google.com/github/cgbarreto/U_blockchain_study/blob/master/Caderno_U_blockchain.ipynb\" target=\"_parent\"><img src=\"https://colab.research.google.com/assets/colab-badge.svg\" alt=\"Open In Colab\"/></a>"
      ]
    },
    {
      "cell_type": "markdown",
      "metadata": {
        "id": "Ki_ehKQM80ex",
        "colab_type": "text"
      },
      "source": [
        "# 1 - Blockchain\n"
      ]
    },
    {
      "cell_type": "markdown",
      "metadata": {
        "id": "nmePu8NHWWR2",
        "colab_type": "text"
      },
      "source": [
        "## 1.1 - Conceituação teórica"
      ]
    },
    {
      "cell_type": "markdown",
      "metadata": {
        "id": "YAhu2sRW80e0",
        "colab_type": "text"
      },
      "source": [
        "#### O que é Blockchain?\n",
        "É uma lista contínua e crescente de registros, chamados de blocos, que estão conectados e seguros usando criptografia\t"
      ]
    },
    {
      "cell_type": "markdown",
      "metadata": {
        "id": "CsUEvDnUntOF",
        "colab_type": "text"
      },
      "source": [
        "![Teste](https://github.com/cgbarreto/U_blockchain_study/blob/master/img/img1.png?raw=1)"
      ]
    },
    {
      "cell_type": "markdown",
      "metadata": {
        "id": "wDOFR0EN80e6",
        "colab_type": "text"
      },
      "source": [
        "#### Compreendendo Hash SHA256\n",
        "É um algoritimo de encriptação criado pela NSA. Ele sempre usa 64 caracteres, que basicamente é a assinatura de qualquer documento digital\n",
        "\n",
        "https://tools.superdatascience.com/blockchain/hash/\n"
      ]
    },
    {
      "cell_type": "markdown",
      "metadata": {
        "id": "zRMhBz4C80e9",
        "colab_type": "text"
      },
      "source": [
        "Um algoritmo de Hash deve atender a 5 requisitos:\n",
        "- 1 - Sem retorno (não é possível restaurar um documento a partir dele)\n",
        "- 2 - Deterministico (o hash para um mesmo documento deve ser sempre o mesmo)\n",
        "- 3 - Proceossamento rápido\n",
        "- 4 - Efeito Avalanche (um pequena alteração no documento deve alterar um hash completamente diferente)\n",
        "- 5 - Deve suportar colisões naturais (dois documentos diferentes com um hash igual)\n",
        "\n",
        "Para melhor compreender os detalhes, ler o capítulo 1 do livro Cryptography in Context\n",
        "\n",
        "** Incluir link para o livro!!! **"
      ]
    },
    {
      "cell_type": "markdown",
      "metadata": {
        "id": "v9vOdrll80e_",
        "colab_type": "text"
      },
      "source": [
        "#### Registros imutáveis\n"
      ]
    },
    {
      "cell_type": "markdown",
      "metadata": {
        "id": "NHTWp5sB9E02",
        "colab_type": "text"
      },
      "source": [
        "![Registros Imutáveis](img/registros_imutáveis_img1.png)\n",
        "\n",
        "Área de aplicações possíveis:\n",
        "\n",
        "- Registros de cartórios e imóveis\n",
        "- Traçabilidade de assets (diamantes e outros por exemplo)\n",
        "\n",
        "Leitura extra sugerida:\n",
        "\n",
        "- [The blockchain Economy: A beginner's guide to institutional cryptoeconomics](https://medium.com/@cryptoeconomics/the-blockchain-economy-a-beginners-guide-to-institutional-cryptoeconomics-64bf2f2beec4)\n"
      ]
    },
    {
      "cell_type": "markdown",
      "metadata": {
        "id": "jswuBEAQ_aP5",
        "colab_type": "text"
      },
      "source": [
        "#### Rede P2P Distribuída"
      ]
    },
    {
      "cell_type": "markdown",
      "metadata": {
        "id": "mtVCkjXh_hM2",
        "colab_type": "text"
      },
      "source": [
        "![RedeP2P](https://github.com/cgbarreto/U_blockchain_study/blob/master/img/rede_p2p_distribuida_img1.png?raw=1)\n",
        "\n",
        "Erros/alterações/modificações implicam diretamente na modificação das hashs dos blocos seguintes. A rede constantemente verifica a integridade dos blocos e identifica prontamente a modificação, em seguida a rede força a atualização com a versão correta da chain em todos os nós da rede.\n",
        "\n",
        "Esse modelo de operação trás confiabilidade a rede, devido ao mecanismo de consenso.\n",
        "\n",
        "Leitura adicional:\n",
        "\n",
        "- [The Meaning of Decentralization](https://medium.com/@VitalikButerin/the-meaning-of-decentralization-a0c92b76a274)"
      ]
    },
    {
      "cell_type": "markdown",
      "metadata": {
        "id": "0oUqkD5NIgMV",
        "colab_type": "text"
      },
      "source": [
        "#### Como a Mineração funciona?"
      ]
    },
    {
      "cell_type": "markdown",
      "metadata": {
        "id": "Ea01Lu-wInmq",
        "colab_type": "text"
      },
      "source": [
        "![Mining1](https://github.com/cgbarreto/U_blockchain_study/blob/master/img/como_a_mineracao_funciona_img1.png?raw=1)\n",
        "\n",
        "O campo Nonce faz parte da composição da Hash, de forma que qualquer alteração nele altera o Hash.É um campo numerico que pode assumir valores muito grandes e pode ser alterado de maneira aleatória. A pergunta então passar ser: como o processo de mineração funciona e como o Nonce impacta-o?\n"
      ]
    },
    {
      "cell_type": "markdown",
      "metadata": {
        "id": "r_fuZDkWJ7wu",
        "colab_type": "text"
      },
      "source": [
        "![Mining2](https://github.com/cgbarreto/U_blockchain_study/blob/master/img/como_a_mineracao_funciona_img2.png?raw=1)\n",
        "\n",
        "Possíveis mascaras de hash compreendendo de valores pequenos a valores muito grandes e a representação de hexacimal para decimal"
      ]
    },
    {
      "cell_type": "markdown",
      "metadata": {
        "id": "QnZbV3SQKu99",
        "colab_type": "text"
      },
      "source": [
        "![Mining3](https://github.com/cgbarreto/U_blockchain_study/blob/master/img/como_a_mineracao_funciona_img3.png?raw=1)\n",
        "\n",
        "O algoritmo cria um hash objetivo que deve ser resolvido calculando os hash oriundos da modificação do Nonce. Os mineradores focam em encontrar o Nonce a partir do qual a Hash calculada atenda ao objetivo definido"
      ]
    },
    {
      "cell_type": "markdown",
      "metadata": {
        "id": "7BfWve-hMJYQ",
        "colab_type": "text"
      },
      "source": [
        "#### Tolerância a Falha Bizantina"
      ]
    },
    {
      "cell_type": "markdown",
      "metadata": {
        "id": "g5zgjgvBMPKX",
        "colab_type": "text"
      },
      "source": [
        "É importante conceito para sistemas distribuídos e trata dos possíveis dilemas relativos ao trafego de informações e a veracidade das mesmas. A partir do contexto devesse inferir a melhor ação possível para manter a confiança das infos"
      ]
    },
    {
      "cell_type": "markdown",
      "metadata": {
        "id": "gIo8e1ugMhYl",
        "colab_type": "text"
      },
      "source": [
        "[Link para Wiki](https://pt.wikipedia.org/wiki/Problema_dos_dois_generais)\n",
        "\n",
        "Resumidamente, a segurança e o protocolo de consenso se mantem intacto caso até 33% do consenso seja divergente (informações falsas/erros forçados na rede)\n",
        "\n",
        "Leitura adicional:\n",
        "\n",
        "- [The Byzantine General Problem ](https://people.eecs.berkeley.edu/~luca/cs174/byzantine.pdf)\n",
        "- [Understanding Blockchain Fundamentals, Part 1: Byzantine Fault Tolerance](https://medium.com/loom-network/understanding-blockchain-fundamentals-part-1-byzantine-fault-tolerance-245f46fe8419)"
      ]
    },
    {
      "cell_type": "markdown",
      "metadata": {
        "id": "ZHoU_o3wPRW4",
        "colab_type": "text"
      },
      "source": [
        "#### Protocolo de Consenso"
      ]
    },
    {
      "cell_type": "markdown",
      "metadata": {
        "id": "5TQ_vOi8Qpfk",
        "colab_type": "text"
      },
      "source": [
        "Dois problemas a serem resolvidos pelo protocolo:\n",
        "\n",
        "- 1 - Proteger a rede de ataques\n",
        "- 2 - Cadeias concorrentes (lapso de tempo entre diferentes nós, tempo de tráfego de informação)\n",
        "\n",
        "Basicamente há três tipos de protocolo de consenso, sendo eles:\n",
        "- Proof-of-work (utilizado em criptomoedas em geral)\n",
        "- Proof-of-stake\n",
        "- Others"
      ]
    },
    {
      "cell_type": "markdown",
      "metadata": {
        "id": "6okAq4MxTTl4",
        "colab_type": "text"
      },
      "source": [
        "Encontrar o Nonce é o Proof-of-work.\n",
        "\n",
        "Quando o Golden Nonce (o Nonce que atende ao objetivo) é encontrado, o minerador é premiado com o direito de escrever um novo bloco e recebe um valor para realizar a criação do bloco"
      ]
    },
    {
      "cell_type": "markdown",
      "metadata": {
        "id": "mDIVgYJwUOSx",
        "colab_type": "text"
      },
      "source": [
        "Como a rede detectada blocos maliciosos?\n",
        "\n",
        "Há uma sério de verificações realizadas pela rede pare determinar se um bloco é valido ou não.\n",
        "\n",
        "> ![Consensus1](https://github.com/cgbarreto/U_blockchain_study/blob/master/img/protocolo_de_consenso_img1.png?raw=1)\n",
        "\n"
      ]
    },
    {
      "cell_type": "markdown",
      "metadata": {
        "id": "IGGkERV8U0mm",
        "colab_type": "text"
      },
      "source": [
        "Desafios criptográficos: Difíceis de resolver e fáceis de verificar. Minerar toma mais tempo e esforço do que verificar. \n",
        "\n",
        "A verificação toda leva no máximos alguns segundos."
      ]
    },
    {
      "cell_type": "markdown",
      "metadata": {
        "id": "BUvMMKy0Vje-",
        "colab_type": "text"
      },
      "source": [
        "##### O que acontece caso dois mineradores encontrem o Nonce ao mesmo tempo em dois pontos diferentes da rede?\n",
        "Isso significa conflito na rede e o protocolo de consenso deve resolver tal problema\n",
        "\n",
        "> ![Consensus2](https://github.com/cgbarreto/U_blockchain_study/blob/master/img/protocolo_de_consenso_img2.png?raw=1)"
      ]
    },
    {
      "cell_type": "markdown",
      "metadata": {
        "id": "UCRStfNzVysM",
        "colab_type": "text"
      },
      "source": [
        "Neste caso a rede aguarda a adição de um novo bloco nas versões concorrentes e a partir disso verifica qual das novas cadeias é maior, definindo essa então como a versão correta a ser mantida\n",
        "\n",
        "Nesse ponto o Hash power começa a ser importante, ou seja possuir o maior poder de processamento de hash possívelmente vai adicionar um bloco antes\n",
        "\n",
        "> ![Consensus3](https://github.com/cgbarreto/U_blockchain_study/blob/master/img/protocolo_de_consenso_img3.png?raw=1)\n",
        "\n",
        "No blockchain o consenso da maioria funciona em 50% + 1 (propagação do novo bloco)"
      ]
    },
    {
      "cell_type": "markdown",
      "metadata": {
        "id": "uJVeGJfNXQKH",
        "colab_type": "text"
      },
      "source": [
        "Os blocos roxos passam a ser chamados de blocos orfãos, a recompensa deixa de ser válida por eles (mineração feita em vão)"
      ]
    },
    {
      "cell_type": "markdown",
      "metadata": {
        "id": "O9MzemRSXaqk",
        "colab_type": "text"
      },
      "source": [
        "> ![Consensus4](https://github.com/cgbarreto/U_blockchain_study/blob/master/img/protocolo_de_consenso_img4.png?raw=1)\n",
        "\n",
        "Leituras adicionais:\n",
        "- [Re: Bitcoin P2P e-cash paper](https://www.mail-archive.com/cryptography@metzdowd.com/msg09997.html)\n",
        "- [A (Short) Guide to Blockchain Consensus Protocols](http://www.coindesk.com/short-guide-blockchain-consensus-protocols)"
      ]
    },
    {
      "cell_type": "markdown",
      "metadata": {
        "id": "k-RgLA2rYXV9",
        "colab_type": "text"
      },
      "source": [
        "## 1.2 - Criando uma Blockchain"
      ]
    },
    {
      "cell_type": "markdown",
      "metadata": {
        "id": "x-xlUY5nmFBx",
        "colab_type": "text"
      },
      "source": [
        "Adicionar informações sobre a execução da PoC\n",
        "\n",
        "No computador instalar o postman e utilizar o métodos do flask para realizar as chamadas"
      ]
    },
    {
      "cell_type": "code",
      "metadata": {
        "id": "EjmaFUPJlh7R",
        "colab_type": "code",
        "colab": {}
      },
      "source": [
        "#Caso tenha mais de uma versão do python instalado, defina qual é o kernel executado e \n",
        "#use o pip apropriado para realizar a instalação, ex: python3.7 -> !pip3.7 install etc\n",
        "!pip install Flask==0.12.2 \n",
        "import datetime\n",
        "import hashlib\n",
        "import json\n",
        "from flask import Flask, jsonify"
      ],
      "execution_count": 0,
      "outputs": []
    },
    {
      "cell_type": "code",
      "metadata": {
        "id": "rFdrxEhhny4t",
        "colab_type": "code",
        "colab": {}
      },
      "source": [
        "# Parte 1, criar um blockchain conceitual\n",
        "\n",
        "class Blockchain:\n",
        "    #Inicializador da classe\n",
        "    def __init__(self):\n",
        "        self.chain = [] #inicializando uma lista\n",
        "        self.create_block(proof = 1, previous_hash = '0')\n",
        "    \n",
        "    # Criador de novos blocos\n",
        "    def create_block(self, proof, previous_hash):\n",
        "        block = {'index': len(self.chain)+1,\n",
        "                 'timestamp': str(datetime.datetime.now()),\n",
        "                 'proof': proof,\n",
        "                 'previous_hash': previous_hash}\n",
        "        self.chain.append(block)\n",
        "        return block\n",
        "\n",
        "    # Recupera o ultimo bloco adiconado a cadeia\n",
        "    def get_previous_block(self):\n",
        "        return self.chain[-1]\n",
        "    \n",
        "    # Calculo do puzzle criptografico + novo bloco\n",
        "    def proof_of_work(self, previous_proof):\n",
        "        new_proof = 1\n",
        "        check_proof = False\n",
        "        while check_proof is False:\n",
        "            hash_operation = hashlib.sha256(str(new_proof**2 - previous_proof**2).encode()).hexdigest()\n",
        "            if hash_operation[:4] == '0000': #Puzzle criptografico\n",
        "                check_proof = True\n",
        "            else:\n",
        "                new_proof += 1\n",
        "        return new_proof\n",
        "\n",
        "    # Calcula o hash de um bloco\n",
        "    def hash(self, block):\n",
        "        encoded_block = json.dumps(block, sort_keys=True).encode()\n",
        "        return hashlib.sha256(encoded_block).hexdigest()\n",
        "\n",
        "    # Validar se cada proof of work é valido e se toda cadeia de blocos é valida\n",
        "    def is_chain_valid(self, chain):\n",
        "        previous_block = chain[0]\n",
        "        block_index = 1\n",
        "        while block_index < len(chain):\n",
        "            block = chain[block_index] # Bloco atual\n",
        "            if block['previous_hash'] != self.hash(previous_block):\n",
        "                return False\n",
        "            previous_proof = previous_block['proof']\n",
        "            proof = block['proof']\n",
        "            hash_operation = hashlib.sha256(str(proof**2 - previous_proof**2).encode()).hexdigest()\n",
        "            if hash_operation[:4] != '0000':\n",
        "                return False\n",
        "            previous_block = block \n",
        "            block_index += 1\n",
        "        return True # Significa que toda a cadeia é válida\n",
        "\n",
        "# Estudar depois o flask quickstart\n",
        "app = Flask(__name__)\n",
        "\n",
        "blockchain = Blockchain() # Instanciando o objeto blockchain\n",
        "\n",
        "@app.route('/mine_block', methods = ['GET'])\n",
        "#Função de mineração\n",
        "def mine_block():\n",
        "    previous_block = blockchain.get_previous_block()\n",
        "    previous_proof = previous_block['proof']\n",
        "    proof = blockchain.proof_of_work(previous_proof)\n",
        "    previous_hash = blockchain.hash(previous_block)\n",
        "    block = blockchain.create_block(proof, previous_hash)\n",
        "    response = {'message':'Parabens minerou um bloco!',\n",
        "                'index':block['index'],\n",
        "                'timestamp':block['timestamp'],\n",
        "                'proof':block['proof'],\n",
        "                'previous_hash': block['previous_hash']}\n",
        "    return jsonify(response), 200\n",
        "\n",
        "@app.route('/get_chain', methods = ['GET'])\n",
        "#Função de retorno da cadeia\n",
        "def get_chain():\n",
        "    response = {'chain':blockchain.chain,\n",
        "                'length': len(blockchain.chain)}\n",
        "    return jsonify(response), 200    \n",
        "\n",
        "#Executar app flask - Chamada a execução\n",
        "app.run(host = '0.0.0.0', port = 5000)"
      ],
      "execution_count": 0,
      "outputs": []
    },
    {
      "cell_type": "markdown",
      "metadata": {
        "id": "ZWwnzHihWCyI",
        "colab_type": "text"
      },
      "source": [
        "# 2 - Criptomoedas "
      ]
    },
    {
      "cell_type": "markdown",
      "metadata": {
        "id": "xixKVTcWWEyU",
        "colab_type": "text"
      },
      "source": [
        "## 2.1 - Conceituação teórica"
      ]
    },
    {
      "cell_type": "markdown",
      "metadata": {
        "id": "3eGY9AxBYp7x",
        "colab_type": "text"
      },
      "source": [
        "#### O que é Bitcoin (moeda criptográfica)?\n"
      ]
    },
    {
      "cell_type": "markdown",
      "metadata": {
        "id": "sN3gri57ZnwU",
        "colab_type": "text"
      },
      "source": [
        "No mundo de criptomoedas, existem três grandes camadas:\n",
        "\n",
        "![img1](https://github.com/cgbarreto/U_blockchain_study/blob/master/img/o_que_bitcoin_img1.png?raw=1)"
      ]
    },
    {
      "cell_type": "markdown",
      "metadata": {
        "id": "Bal832h6ax_g",
        "colab_type": "text"
      },
      "source": [
        "O token é um ativo de rede e não uma moeda\n",
        "\n",
        "Os tokens estão intimamente relacionados a contratos inteligentes\n",
        "\n",
        "A partir do bitcoin não é possível de usar um smart contract, pois o mesmo não possui a camada de Token"
      ]
    },
    {
      "cell_type": "markdown",
      "metadata": {
        "id": "-5jLtNsobFUK",
        "colab_type": "text"
      },
      "source": [
        "A idéia do Bitcoin surgiu em 2008 e foi implementado em 2009\n",
        "\n",
        "Resumidamente, é uma implementação do blockchain\n",
        "\n",
        "Ele faz parte de um ecossistema"
      ]
    },
    {
      "cell_type": "markdown",
      "metadata": {
        "id": "zkm1htqwbtFz",
        "colab_type": "text"
      },
      "source": [
        "![img2](https://github.com/cgbarreto/U_blockchain_study/blob/master/img/o_que_bitcoin_img2.png?raw=1)"
      ]
    },
    {
      "cell_type": "markdown",
      "metadata": {
        "id": "rmSM9wI6b5Vj",
        "colab_type": "text"
      },
      "source": [
        "Leitura adicional:\n",
        "- [Bitcoin: A Peer-to-Peer Electronic Cash System](https://bitcoin.org/bitcoin.pdf)"
      ]
    },
    {
      "cell_type": "markdown",
      "metadata": {
        "id": "zHrZys3KZHMB",
        "colab_type": "text"
      },
      "source": [
        "### Política Monetária do Bitcoin\n",
        "\n"
      ]
    },
    {
      "cell_type": "markdown",
      "metadata": {
        "id": "-U2RKTpgZooz",
        "colab_type": "text"
      },
      "source": [
        "A política é composta por dois elementos deferentes:\n",
        "- Halving\n",
        "- Frequencia do Bloco"
      ]
    },
    {
      "cell_type": "markdown",
      "metadata": {
        "id": "RUYHAIIPcX-T",
        "colab_type": "text"
      },
      "source": [
        "#### Halving\n",
        "É um evento que ocorre a cada 210k blocos minerados, a distribuição de recompensa por cada bloco cai pela metade. Esse evento é gerado automaticamente pelo algoritmo\n",
        "\n",
        "![alt text](https://github.com/cgbarreto/U_blockchain_study/blob/master/img/politica_monetaria_bitcoin_img1.png?raw=1)"
      ]
    },
    {
      "cell_type": "markdown",
      "metadata": {
        "id": "lFeusRvodEWg",
        "colab_type": "text"
      },
      "source": [
        "Bitcoin - Oferta maxima\n",
        "\n",
        "![img2](https://github.com/cgbarreto/U_blockchain_study/blob/master/img/politica_monetaria_bitcoin_img2.png?raw=1)"
      ]
    },
    {
      "cell_type": "markdown",
      "metadata": {
        "id": "2mCkvmARd21R",
        "colab_type": "text"
      },
      "source": [
        "Incentivo aos mineradores\n",
        "\n",
        "![img3](https://github.com/cgbarreto/U_blockchain_study/blob/master/img/politica_monetaria_bitcoin_img3.png?raw=1)"
      ]
    },
    {
      "cell_type": "markdown",
      "metadata": {
        "id": "L8WVGE35d6S_",
        "colab_type": "text"
      },
      "source": [
        "#### Frequência do Bloco\n",
        "O tempo médio de mineração de um novo bloco é uma questão de design da criptomoeda\n",
        "\n",
        "![img4](https://github.com/cgbarreto/U_blockchain_study/blob/master/img/politica_monetaria_bitcoin_img4.png?raw=1)"
      ]
    },
    {
      "cell_type": "markdown",
      "metadata": {
        "id": "Gl5_m03LeR-6",
        "colab_type": "text"
      },
      "source": [
        "Leitural adicional:\n",
        "- [This Time Is Different Part 2: What Bitcoin Really is](https://hackermoon.com/this-time-is-different-part-2-what-bitcoin-really-is-ae58c69b3bf0)"
      ]
    },
    {
      "cell_type": "markdown",
      "metadata": {
        "id": "YpvagREdZoPr",
        "colab_type": "text"
      },
      "source": [
        "### Entendendo a Dificuldade de Mineração\n"
      ]
    },
    {
      "cell_type": "markdown",
      "metadata": {
        "id": "BpmIzAvhG3Zo",
        "colab_type": "text"
      },
      "source": [
        "- Qual é o objetivo e como isso funciona?\n",
        "O objetivo é encontrar o Hash dentro do domínio de solução definido\n",
        "\n",
        "XXXX: 0-99999 (100k opções)\n",
        "0XXX: 0-9999 (10k opções)\n",
        "\n",
        "![Dificuldade_img1](img/dificuldade_img1.png)"
      ]
    },
    {
      "cell_type": "markdown",
      "metadata": {
        "id": "ImY2Onn1HCiu",
        "colab_type": "text"
      },
      "source": [
        "- Como a dificuldade de mineração é calculada?\n",
        "\n",
        "![Dificuldade_img2](img/dificuldade_img2)\n"
      ]
    },
    {
      "cell_type": "markdown",
      "metadata": {
        "id": "Nj7z8ZCHZqzM",
        "colab_type": "text"
      },
      "source": [
        "### Tour virtual em Mineradora de Bitcoin\n",
        "(remover tópico)"
      ]
    },
    {
      "cell_type": "markdown",
      "metadata": {
        "id": "6osuicNNIdc3",
        "colab_type": "text"
      },
      "source": [
        "A maior mineradora do mundo encontra-se na Mongolia(energia elétrica barata!)."
      ]
    },
    {
      "cell_type": "markdown",
      "metadata": {
        "id": "GBzAhm77ZrLF",
        "colab_type": "text"
      },
      "source": [
        "### Mining Pools (remover tópico)\n"
      ]
    },
    {
      "cell_type": "markdown",
      "metadata": {
        "id": "wgMJ-VVRZvZr",
        "colab_type": "text"
      },
      "source": [
        "### Variação do Nonce\n",
        "\n",
        "![VariacaoNonce](img/variacaononce_img1)"
      ]
    },
    {
      "cell_type": "markdown",
      "metadata": {
        "id": "WeX4TXMdZxMk",
        "colab_type": "text"
      },
      "source": [
        "### Como os mineradores pegam as transações?"
      ]
    },
    {
      "cell_type": "markdown",
      "metadata": {
        "id": "XyaSPi8pZy6M",
        "colab_type": "text"
      },
      "source": [
        "### CPUs vs GPUs vs ASICs"
      ]
    },
    {
      "cell_type": "markdown",
      "metadata": {
        "id": "i27gNAo9Z0os",
        "colab_type": "text"
      },
      "source": [
        "### Como Mempools funcionam?"
      ]
    },
    {
      "cell_type": "markdown",
      "metadata": {
        "id": "-FFkWIkjZ2hz",
        "colab_type": "text"
      },
      "source": [
        "### Blocos Órfãos"
      ]
    },
    {
      "cell_type": "markdown",
      "metadata": {
        "id": "SCbHs4yTZ4OU",
        "colab_type": "text"
      },
      "source": [
        "### O ataque de 51%"
      ]
    }
  ]
}